{
 "cells": [
  {
   "cell_type": "code",
   "execution_count": 1,
   "id": "8f9c6a87",
   "metadata": {},
   "outputs": [],
   "source": [
    "import pandas as pd"
   ]
  },
  {
   "cell_type": "code",
   "execution_count": 4,
   "id": "339ddad8",
   "metadata": {},
   "outputs": [],
   "source": [
    "data_1 = pd.read_csv('sales_train_1.csv')\n",
    "data_2 = pd.read_csv('sales_train_2.csv')\n",
    "data_3 = pd.read_csv('sales_train_3.csv')\n",
    "data_4 = pd.read_csv('sales_train_4.csv')\n",
    "data_5 = pd.read_csv('sales_train_5.csv')\n",
    "data_6 = pd.read_csv('sales_train_6.csv')\n",
    "data_7 = pd.read_csv('sales_train_7.csv')\n",
    "data_8 = pd.read_csv('sales_train_8.csv')\n",
    "data_9 = pd.read_csv('sales_train_9.csv')\n",
    "data_10 = pd.read_csv('sales_train_10.csv')"
   ]
  },
  {
   "cell_type": "code",
   "execution_count": 6,
   "id": "60f97ef7",
   "metadata": {},
   "outputs": [],
   "source": [
    "sales_train = pd.concat([data_1,data_2,data_3,data_4,data_5,data_6,data_7,data_8,data_9,data_10], axis=0)"
   ]
  },
  {
   "cell_type": "code",
   "execution_count": 7,
   "id": "5dbc9ce7",
   "metadata": {},
   "outputs": [
    {
     "data": {
      "text/plain": [
       "(2935849, 6)"
      ]
     },
     "execution_count": 7,
     "metadata": {},
     "output_type": "execute_result"
    }
   ],
   "source": [
    "sales_train.shape"
   ]
  },
  {
   "cell_type": "code",
   "execution_count": null,
   "id": "3d6a0bb6",
   "metadata": {},
   "outputs": [],
   "source": []
  }
 ],
 "metadata": {
  "kernelspec": {
   "display_name": "Python 3 (ipykernel)",
   "language": "python",
   "name": "python3"
  },
  "language_info": {
   "codemirror_mode": {
    "name": "ipython",
    "version": 3
   },
   "file_extension": ".py",
   "mimetype": "text/x-python",
   "name": "python",
   "nbconvert_exporter": "python",
   "pygments_lexer": "ipython3",
   "version": "3.9.7"
  }
 },
 "nbformat": 4,
 "nbformat_minor": 5
}
