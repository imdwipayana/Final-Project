{
 "cells": [
  {
   "cell_type": "code",
   "execution_count": 1,
   "id": "48add7dd",
   "metadata": {},
   "outputs": [],
   "source": [
    "import pandas as pd"
   ]
  },
  {
   "cell_type": "code",
   "execution_count": 3,
   "id": "f462ca10",
   "metadata": {},
   "outputs": [],
   "source": [
    "train_1 = pd.read_csv('train_1.csv')\n",
    "train_2 = pd.read_csv('train_2.csv')\n",
    "train_3 = pd.read_csv('train_3.csv')\n",
    "train_4 = pd.read_csv('train_4.csv')\n",
    "train_5 = pd.read_csv('train_5.csv')\n",
    "train_6 = pd.read_csv('train_6.csv')\n",
    "train_7 = pd.read_csv('train_7.csv')\n",
    "train_8 = pd.read_csv('train_8.csv')\n",
    "train_9 = pd.read_csv('train_9.csv')\n",
    "train_10 = pd.read_csv('train_10.csv')\n",
    "train_11 = pd.read_csv('train_11.csv')\n",
    "train_12 = pd.read_csv('train_12.csv')\n",
    "train_13 = pd.read_csv('train_13.csv')\n",
    "train_14 = pd.read_csv('train_14.csv')\n",
    "train_15 = pd.read_csv('train_15.csv')"
   ]
  },
  {
   "cell_type": "code",
   "execution_count": 4,
   "id": "23b6fd23",
   "metadata": {},
   "outputs": [],
   "source": [
    "train = pd.concat([train_1,train_2,train_3,train_4,train_5,train_6,train_7,train_8,train_9,train_10,train_11,train_12,train_13,train_14,train_15],axis=0)"
   ]
  },
  {
   "cell_type": "code",
   "execution_count": 5,
   "id": "b08b4648",
   "metadata": {},
   "outputs": [
    {
     "data": {
      "text/plain": [
       "(3000888, 6)"
      ]
     },
     "execution_count": 5,
     "metadata": {},
     "output_type": "execute_result"
    }
   ],
   "source": [
    "train.shape"
   ]
  },
  {
   "cell_type": "code",
   "execution_count": null,
   "id": "46f5cad7",
   "metadata": {},
   "outputs": [],
   "source": []
  }
 ],
 "metadata": {
  "kernelspec": {
   "display_name": "Python 3 (ipykernel)",
   "language": "python",
   "name": "python3"
  },
  "language_info": {
   "codemirror_mode": {
    "name": "ipython",
    "version": 3
   },
   "file_extension": ".py",
   "mimetype": "text/x-python",
   "name": "python",
   "nbconvert_exporter": "python",
   "pygments_lexer": "ipython3",
   "version": "3.9.7"
  }
 },
 "nbformat": 4,
 "nbformat_minor": 5
}
